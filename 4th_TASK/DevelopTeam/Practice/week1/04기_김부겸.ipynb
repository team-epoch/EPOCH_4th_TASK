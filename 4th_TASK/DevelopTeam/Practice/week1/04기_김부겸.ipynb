{
 "cells": [
  {
   "cell_type": "markdown",
   "id": "4fd1504e",
   "metadata": {},
   "source": [
    "# 선형회귀: 보험료 예측하기"
   ]
  },
  {
   "cell_type": "markdown",
   "id": "30f3fc79",
   "metadata": {},
   "source": [
    "선형 회귀 모델로 보험 데이터셋을 학습해 보험료를 예측하고, 선형 회귀의 작동 원리를 이해"
   ]
  },
  {
   "cell_type": "markdown",
   "id": "88ceab2f",
   "metadata": {},
   "source": [
    "- 선형 회귀는 가장 기초적인 머신러닝 모델\n",
    "- 종속변수가 연속형 변수인 것을 예측\n",
    "> 범주형 변수: 명목척도(성별, 혈액형), 서열척도(학년, 만족도)로 이루어진 변수\n",
    ">\n",
    "> 연속형 변수: 등간척도(온도, 연도), 비율척도(나이, 키)로 이루어진 변수"
   ]
  },
  {
   "cell_type": "markdown",
   "id": "62502782",
   "metadata": {},
   "source": [
    "- 장점\n",
    "    - 모델이 간단하기 때문에 구현과 해석이 쉬움\n",
    "    - 같은 이유로 모델링하는 데 오랜 시간이 걸리지 않음\n",
    "- 단점\n",
    "    - 최신 알고리즘에 비해 예측력이 떨어짐\n",
    "    - 독립변수와 예측변수의 선형관계를 전제로 하기 때문에, 이러한 전제에서 벗어나는 데이터에서는 좋은 예측을 보여주기 어려움"
   ]
  },
  {
   "cell_type": "markdown",
   "id": "de576b10",
   "metadata": {},
   "source": [
    "## 한눈에 보는 예측 목표"
   ]
  },
  {
   "cell_type": "markdown",
   "id": "cb48f00c",
   "metadata": {},
   "source": [
    "- 보험 데이터셋을 이용하여 보험사에서 청구할 보험료를 예측\n",
    "- 보험사에서 청구하는 병원 비용이 종속변수이며, 나이, 성별, BM, 자녀 수, 흡연 여부를 독립변수로 사용"
   ]
  },
  {
   "cell_type": "markdown",
   "id": "a94a0e1c",
   "metadata": {},
   "source": [
    "## 코드실행"
   ]
  },
  {
   "cell_type": "code",
   "execution_count": 1,
   "id": "ed82e141",
   "metadata": {},
   "outputs": [],
   "source": [
    "# 라이브러리 및 데이터 불러오기\n",
    "import pandas as pd\n",
    "\n",
    "file_url = 'https://media.githubusercontent.com/media/musthave-ML10/data_source/main/insurance.csv'"
   ]
  },
  {
   "cell_type": "code",
   "execution_count": 2,
   "id": "7a530b11",
   "metadata": {},
   "outputs": [],
   "source": [
    "data=pd.read_csv(file_url)"
   ]
  },
  {
   "cell_type": "code",
   "execution_count": 4,
   "id": "cc296af8",
   "metadata": {},
   "outputs": [
    {
     "data": {
      "text/html": [
       "<div>\n",
       "<style scoped>\n",
       "    .dataframe tbody tr th:only-of-type {\n",
       "        vertical-align: middle;\n",
       "    }\n",
       "\n",
       "    .dataframe tbody tr th {\n",
       "        vertical-align: top;\n",
       "    }\n",
       "\n",
       "    .dataframe thead th {\n",
       "        text-align: right;\n",
       "    }\n",
       "</style>\n",
       "<table border=\"1\" class=\"dataframe\">\n",
       "  <thead>\n",
       "    <tr style=\"text-align: right;\">\n",
       "      <th></th>\n",
       "      <th>age</th>\n",
       "      <th>sex</th>\n",
       "      <th>bmi</th>\n",
       "      <th>children</th>\n",
       "      <th>smoker</th>\n",
       "      <th>charges</th>\n",
       "    </tr>\n",
       "  </thead>\n",
       "  <tbody>\n",
       "    <tr>\n",
       "      <th>0</th>\n",
       "      <td>19</td>\n",
       "      <td>0</td>\n",
       "      <td>27.900</td>\n",
       "      <td>0</td>\n",
       "      <td>1</td>\n",
       "      <td>16884.92400</td>\n",
       "    </tr>\n",
       "    <tr>\n",
       "      <th>1</th>\n",
       "      <td>18</td>\n",
       "      <td>1</td>\n",
       "      <td>33.770</td>\n",
       "      <td>1</td>\n",
       "      <td>0</td>\n",
       "      <td>1725.55230</td>\n",
       "    </tr>\n",
       "    <tr>\n",
       "      <th>2</th>\n",
       "      <td>28</td>\n",
       "      <td>1</td>\n",
       "      <td>33.000</td>\n",
       "      <td>3</td>\n",
       "      <td>0</td>\n",
       "      <td>4449.46200</td>\n",
       "    </tr>\n",
       "    <tr>\n",
       "      <th>3</th>\n",
       "      <td>33</td>\n",
       "      <td>1</td>\n",
       "      <td>22.705</td>\n",
       "      <td>0</td>\n",
       "      <td>0</td>\n",
       "      <td>21984.47061</td>\n",
       "    </tr>\n",
       "    <tr>\n",
       "      <th>4</th>\n",
       "      <td>32</td>\n",
       "      <td>1</td>\n",
       "      <td>28.880</td>\n",
       "      <td>0</td>\n",
       "      <td>0</td>\n",
       "      <td>3866.85520</td>\n",
       "    </tr>\n",
       "    <tr>\n",
       "      <th>...</th>\n",
       "      <td>...</td>\n",
       "      <td>...</td>\n",
       "      <td>...</td>\n",
       "      <td>...</td>\n",
       "      <td>...</td>\n",
       "      <td>...</td>\n",
       "    </tr>\n",
       "    <tr>\n",
       "      <th>1333</th>\n",
       "      <td>50</td>\n",
       "      <td>1</td>\n",
       "      <td>30.970</td>\n",
       "      <td>3</td>\n",
       "      <td>0</td>\n",
       "      <td>10600.54830</td>\n",
       "    </tr>\n",
       "    <tr>\n",
       "      <th>1334</th>\n",
       "      <td>18</td>\n",
       "      <td>0</td>\n",
       "      <td>31.920</td>\n",
       "      <td>0</td>\n",
       "      <td>0</td>\n",
       "      <td>2205.98080</td>\n",
       "    </tr>\n",
       "    <tr>\n",
       "      <th>1335</th>\n",
       "      <td>18</td>\n",
       "      <td>0</td>\n",
       "      <td>36.850</td>\n",
       "      <td>0</td>\n",
       "      <td>0</td>\n",
       "      <td>1629.83350</td>\n",
       "    </tr>\n",
       "    <tr>\n",
       "      <th>1336</th>\n",
       "      <td>21</td>\n",
       "      <td>0</td>\n",
       "      <td>25.800</td>\n",
       "      <td>0</td>\n",
       "      <td>0</td>\n",
       "      <td>2007.94500</td>\n",
       "    </tr>\n",
       "    <tr>\n",
       "      <th>1337</th>\n",
       "      <td>61</td>\n",
       "      <td>0</td>\n",
       "      <td>29.070</td>\n",
       "      <td>0</td>\n",
       "      <td>1</td>\n",
       "      <td>29141.36030</td>\n",
       "    </tr>\n",
       "  </tbody>\n",
       "</table>\n",
       "<p>1338 rows × 6 columns</p>\n",
       "</div>"
      ],
      "text/plain": [
       "      age  sex     bmi  children  smoker      charges\n",
       "0      19    0  27.900         0       1  16884.92400\n",
       "1      18    1  33.770         1       0   1725.55230\n",
       "2      28    1  33.000         3       0   4449.46200\n",
       "3      33    1  22.705         0       0  21984.47061\n",
       "4      32    1  28.880         0       0   3866.85520\n",
       "...   ...  ...     ...       ...     ...          ...\n",
       "1333   50    1  30.970         3       0  10600.54830\n",
       "1334   18    0  31.920         0       0   2205.98080\n",
       "1335   18    0  36.850         0       0   1629.83350\n",
       "1336   21    0  25.800         0       0   2007.94500\n",
       "1337   61    0  29.070         0       1  29141.36030\n",
       "\n",
       "[1338 rows x 6 columns]"
      ]
     },
     "execution_count": 4,
     "metadata": {},
     "output_type": "execute_result"
    }
   ],
   "source": [
    "# 데이터 확인하기\n",
    "data"
   ]
  },
  {
   "cell_type": "code",
   "execution_count": 5,
   "id": "04f6cd13",
   "metadata": {},
   "outputs": [
    {
     "data": {
      "text/html": [
       "<div>\n",
       "<style scoped>\n",
       "    .dataframe tbody tr th:only-of-type {\n",
       "        vertical-align: middle;\n",
       "    }\n",
       "\n",
       "    .dataframe tbody tr th {\n",
       "        vertical-align: top;\n",
       "    }\n",
       "\n",
       "    .dataframe thead th {\n",
       "        text-align: right;\n",
       "    }\n",
       "</style>\n",
       "<table border=\"1\" class=\"dataframe\">\n",
       "  <thead>\n",
       "    <tr style=\"text-align: right;\">\n",
       "      <th></th>\n",
       "      <th>age</th>\n",
       "      <th>sex</th>\n",
       "      <th>bmi</th>\n",
       "      <th>children</th>\n",
       "      <th>smoker</th>\n",
       "      <th>charges</th>\n",
       "    </tr>\n",
       "  </thead>\n",
       "  <tbody>\n",
       "    <tr>\n",
       "      <th>0</th>\n",
       "      <td>19</td>\n",
       "      <td>0</td>\n",
       "      <td>27.900</td>\n",
       "      <td>0</td>\n",
       "      <td>1</td>\n",
       "      <td>16884.92400</td>\n",
       "    </tr>\n",
       "    <tr>\n",
       "      <th>1</th>\n",
       "      <td>18</td>\n",
       "      <td>1</td>\n",
       "      <td>33.770</td>\n",
       "      <td>1</td>\n",
       "      <td>0</td>\n",
       "      <td>1725.55230</td>\n",
       "    </tr>\n",
       "    <tr>\n",
       "      <th>2</th>\n",
       "      <td>28</td>\n",
       "      <td>1</td>\n",
       "      <td>33.000</td>\n",
       "      <td>3</td>\n",
       "      <td>0</td>\n",
       "      <td>4449.46200</td>\n",
       "    </tr>\n",
       "    <tr>\n",
       "      <th>3</th>\n",
       "      <td>33</td>\n",
       "      <td>1</td>\n",
       "      <td>22.705</td>\n",
       "      <td>0</td>\n",
       "      <td>0</td>\n",
       "      <td>21984.47061</td>\n",
       "    </tr>\n",
       "    <tr>\n",
       "      <th>4</th>\n",
       "      <td>32</td>\n",
       "      <td>1</td>\n",
       "      <td>28.880</td>\n",
       "      <td>0</td>\n",
       "      <td>0</td>\n",
       "      <td>3866.85520</td>\n",
       "    </tr>\n",
       "  </tbody>\n",
       "</table>\n",
       "</div>"
      ],
      "text/plain": [
       "   age  sex     bmi  children  smoker      charges\n",
       "0   19    0  27.900         0       1  16884.92400\n",
       "1   18    1  33.770         1       0   1725.55230\n",
       "2   28    1  33.000         3       0   4449.46200\n",
       "3   33    1  22.705         0       0  21984.47061\n",
       "4   32    1  28.880         0       0   3866.85520"
      ]
     },
     "execution_count": 5,
     "metadata": {},
     "output_type": "execute_result"
    }
   ],
   "source": [
    "data.head()\n",
    "\n",
    "# age: 나이\n",
    "# sex: 0(여자), 1(남자)\n",
    "# bmi\n",
    "# children: 자녀수\n",
    "# smoker: 0(비흡연자), 1(흡연자)"
   ]
  },
  {
   "cell_type": "code",
   "execution_count": 6,
   "id": "45af08d8",
   "metadata": {},
   "outputs": [
    {
     "name": "stdout",
     "output_type": "stream",
     "text": [
      "<class 'pandas.core.frame.DataFrame'>\n",
      "RangeIndex: 1338 entries, 0 to 1337\n",
      "Data columns (total 6 columns):\n",
      " #   Column    Non-Null Count  Dtype  \n",
      "---  ------    --------------  -----  \n",
      " 0   age       1338 non-null   int64  \n",
      " 1   sex       1338 non-null   int64  \n",
      " 2   bmi       1338 non-null   float64\n",
      " 3   children  1338 non-null   int64  \n",
      " 4   smoker    1338 non-null   int64  \n",
      " 5   charges   1338 non-null   float64\n",
      "dtypes: float64(2), int64(4)\n",
      "memory usage: 62.8 KB\n"
     ]
    }
   ],
   "source": [
    "data.info()"
   ]
  },
  {
   "cell_type": "code",
   "execution_count": 7,
   "id": "ac07c132",
   "metadata": {},
   "outputs": [
    {
     "data": {
      "text/html": [
       "<div>\n",
       "<style scoped>\n",
       "    .dataframe tbody tr th:only-of-type {\n",
       "        vertical-align: middle;\n",
       "    }\n",
       "\n",
       "    .dataframe tbody tr th {\n",
       "        vertical-align: top;\n",
       "    }\n",
       "\n",
       "    .dataframe thead th {\n",
       "        text-align: right;\n",
       "    }\n",
       "</style>\n",
       "<table border=\"1\" class=\"dataframe\">\n",
       "  <thead>\n",
       "    <tr style=\"text-align: right;\">\n",
       "      <th></th>\n",
       "      <th>age</th>\n",
       "      <th>sex</th>\n",
       "      <th>bmi</th>\n",
       "      <th>children</th>\n",
       "      <th>smoker</th>\n",
       "      <th>charges</th>\n",
       "    </tr>\n",
       "  </thead>\n",
       "  <tbody>\n",
       "    <tr>\n",
       "      <th>count</th>\n",
       "      <td>1338.000000</td>\n",
       "      <td>1338.000000</td>\n",
       "      <td>1338.000000</td>\n",
       "      <td>1338.000000</td>\n",
       "      <td>1338.000000</td>\n",
       "      <td>1338.000000</td>\n",
       "    </tr>\n",
       "    <tr>\n",
       "      <th>mean</th>\n",
       "      <td>39.207025</td>\n",
       "      <td>0.505232</td>\n",
       "      <td>30.663397</td>\n",
       "      <td>1.094918</td>\n",
       "      <td>0.204783</td>\n",
       "      <td>13270.422265</td>\n",
       "    </tr>\n",
       "    <tr>\n",
       "      <th>std</th>\n",
       "      <td>14.049960</td>\n",
       "      <td>0.500160</td>\n",
       "      <td>6.098187</td>\n",
       "      <td>1.205493</td>\n",
       "      <td>0.403694</td>\n",
       "      <td>12110.011237</td>\n",
       "    </tr>\n",
       "    <tr>\n",
       "      <th>min</th>\n",
       "      <td>18.000000</td>\n",
       "      <td>0.000000</td>\n",
       "      <td>15.960000</td>\n",
       "      <td>0.000000</td>\n",
       "      <td>0.000000</td>\n",
       "      <td>1121.873900</td>\n",
       "    </tr>\n",
       "    <tr>\n",
       "      <th>25%</th>\n",
       "      <td>27.000000</td>\n",
       "      <td>0.000000</td>\n",
       "      <td>26.296250</td>\n",
       "      <td>0.000000</td>\n",
       "      <td>0.000000</td>\n",
       "      <td>4740.287150</td>\n",
       "    </tr>\n",
       "    <tr>\n",
       "      <th>50%</th>\n",
       "      <td>39.000000</td>\n",
       "      <td>1.000000</td>\n",
       "      <td>30.400000</td>\n",
       "      <td>1.000000</td>\n",
       "      <td>0.000000</td>\n",
       "      <td>9382.033000</td>\n",
       "    </tr>\n",
       "    <tr>\n",
       "      <th>75%</th>\n",
       "      <td>51.000000</td>\n",
       "      <td>1.000000</td>\n",
       "      <td>34.693750</td>\n",
       "      <td>2.000000</td>\n",
       "      <td>0.000000</td>\n",
       "      <td>16639.912515</td>\n",
       "    </tr>\n",
       "    <tr>\n",
       "      <th>max</th>\n",
       "      <td>64.000000</td>\n",
       "      <td>1.000000</td>\n",
       "      <td>53.130000</td>\n",
       "      <td>5.000000</td>\n",
       "      <td>1.000000</td>\n",
       "      <td>63770.428010</td>\n",
       "    </tr>\n",
       "  </tbody>\n",
       "</table>\n",
       "</div>"
      ],
      "text/plain": [
       "               age          sex          bmi     children       smoker  \\\n",
       "count  1338.000000  1338.000000  1338.000000  1338.000000  1338.000000   \n",
       "mean     39.207025     0.505232    30.663397     1.094918     0.204783   \n",
       "std      14.049960     0.500160     6.098187     1.205493     0.403694   \n",
       "min      18.000000     0.000000    15.960000     0.000000     0.000000   \n",
       "25%      27.000000     0.000000    26.296250     0.000000     0.000000   \n",
       "50%      39.000000     1.000000    30.400000     1.000000     0.000000   \n",
       "75%      51.000000     1.000000    34.693750     2.000000     0.000000   \n",
       "max      64.000000     1.000000    53.130000     5.000000     1.000000   \n",
       "\n",
       "            charges  \n",
       "count   1338.000000  \n",
       "mean   13270.422265  \n",
       "std    12110.011237  \n",
       "min     1121.873900  \n",
       "25%     4740.287150  \n",
       "50%     9382.033000  \n",
       "75%    16639.912515  \n",
       "max    63770.428010  "
      ]
     },
     "execution_count": 7,
     "metadata": {},
     "output_type": "execute_result"
    }
   ],
   "source": [
    "data.describe()\n",
    "\n",
    "# data.describe(include='all')\n",
    "# 수치형 변수만 아니라 범주형 변수도 보여줌"
   ]
  },
  {
   "cell_type": "code",
   "execution_count": 8,
   "id": "c88608dc",
   "metadata": {},
   "outputs": [
    {
     "data": {
      "text/html": [
       "<div>\n",
       "<style scoped>\n",
       "    .dataframe tbody tr th:only-of-type {\n",
       "        vertical-align: middle;\n",
       "    }\n",
       "\n",
       "    .dataframe tbody tr th {\n",
       "        vertical-align: top;\n",
       "    }\n",
       "\n",
       "    .dataframe thead th {\n",
       "        text-align: right;\n",
       "    }\n",
       "</style>\n",
       "<table border=\"1\" class=\"dataframe\">\n",
       "  <thead>\n",
       "    <tr style=\"text-align: right;\">\n",
       "      <th></th>\n",
       "      <th>age</th>\n",
       "      <th>sex</th>\n",
       "      <th>bmi</th>\n",
       "      <th>children</th>\n",
       "      <th>smoker</th>\n",
       "      <th>charges</th>\n",
       "    </tr>\n",
       "  </thead>\n",
       "  <tbody>\n",
       "    <tr>\n",
       "      <th>count</th>\n",
       "      <td>1338.00</td>\n",
       "      <td>1338.00</td>\n",
       "      <td>1338.00</td>\n",
       "      <td>1338.00</td>\n",
       "      <td>1338.0</td>\n",
       "      <td>1338.00</td>\n",
       "    </tr>\n",
       "    <tr>\n",
       "      <th>mean</th>\n",
       "      <td>39.21</td>\n",
       "      <td>0.51</td>\n",
       "      <td>30.66</td>\n",
       "      <td>1.09</td>\n",
       "      <td>0.2</td>\n",
       "      <td>13270.42</td>\n",
       "    </tr>\n",
       "    <tr>\n",
       "      <th>std</th>\n",
       "      <td>14.05</td>\n",
       "      <td>0.50</td>\n",
       "      <td>6.10</td>\n",
       "      <td>1.21</td>\n",
       "      <td>0.4</td>\n",
       "      <td>12110.01</td>\n",
       "    </tr>\n",
       "    <tr>\n",
       "      <th>min</th>\n",
       "      <td>18.00</td>\n",
       "      <td>0.00</td>\n",
       "      <td>15.96</td>\n",
       "      <td>0.00</td>\n",
       "      <td>0.0</td>\n",
       "      <td>1121.87</td>\n",
       "    </tr>\n",
       "    <tr>\n",
       "      <th>25%</th>\n",
       "      <td>27.00</td>\n",
       "      <td>0.00</td>\n",
       "      <td>26.30</td>\n",
       "      <td>0.00</td>\n",
       "      <td>0.0</td>\n",
       "      <td>4740.29</td>\n",
       "    </tr>\n",
       "    <tr>\n",
       "      <th>50%</th>\n",
       "      <td>39.00</td>\n",
       "      <td>1.00</td>\n",
       "      <td>30.40</td>\n",
       "      <td>1.00</td>\n",
       "      <td>0.0</td>\n",
       "      <td>9382.03</td>\n",
       "    </tr>\n",
       "    <tr>\n",
       "      <th>75%</th>\n",
       "      <td>51.00</td>\n",
       "      <td>1.00</td>\n",
       "      <td>34.69</td>\n",
       "      <td>2.00</td>\n",
       "      <td>0.0</td>\n",
       "      <td>16639.91</td>\n",
       "    </tr>\n",
       "    <tr>\n",
       "      <th>max</th>\n",
       "      <td>64.00</td>\n",
       "      <td>1.00</td>\n",
       "      <td>53.13</td>\n",
       "      <td>5.00</td>\n",
       "      <td>1.0</td>\n",
       "      <td>63770.43</td>\n",
       "    </tr>\n",
       "  </tbody>\n",
       "</table>\n",
       "</div>"
      ],
      "text/plain": [
       "           age      sex      bmi  children  smoker   charges\n",
       "count  1338.00  1338.00  1338.00   1338.00  1338.0   1338.00\n",
       "mean     39.21     0.51    30.66      1.09     0.2  13270.42\n",
       "std      14.05     0.50     6.10      1.21     0.4  12110.01\n",
       "min      18.00     0.00    15.96      0.00     0.0   1121.87\n",
       "25%      27.00     0.00    26.30      0.00     0.0   4740.29\n",
       "50%      39.00     1.00    30.40      1.00     0.0   9382.03\n",
       "75%      51.00     1.00    34.69      2.00     0.0  16639.91\n",
       "max      64.00     1.00    53.13      5.00     1.0  63770.43"
      ]
     },
     "execution_count": 8,
     "metadata": {},
     "output_type": "execute_result"
    }
   ],
   "source": [
    "round(data.describe(),2)"
   ]
  },
  {
   "cell_type": "markdown",
   "id": "a7c7528f",
   "metadata": {},
   "source": [
    "사분위수 ; 데이터를 작은 값부터 큰 값까지 순서대로 나열했을 때 이를 4등분하는 값\n",
    "- iqr = Q3 - Q1 (중앙 50%값을 의미)\n",
    "- iqr은 보통 이상치 탐지할 때 사용 (Q1 - 1.5 * IQR 과 Q3 + 1.5 * IQR 을 이용)"
   ]
  },
  {
   "cell_type": "markdown",
   "id": "aa7c4779",
   "metadata": {},
   "source": [
    "### 전처리\n",
    "\n",
    "1. 종속변수와 독립변수 분리\n",
    "- 보통 labeled train data set을 사용\n",
    "- 지도학습에 속하는 머신러닝 모델은 독립변수로 종속변수를 예측\n",
    "2. Train set 과 Test Set으로 분리\n",
    "- 학습에 사용한 데이터와 평가에 사용하는 데이터를 분리\n",
    "- Test set을 훈련 모델에 사용시 Data Leakage 발생\n",
    "    - Data Leakage가 발생하면 실제 성능은 낮은데, 평가 점수만 높게 나와 과적합처럼 보이는 문제가 발생\n",
    "- 일반적으로 7:3, 8:2의 비율로 나눔\n",
    "    - 데이터의 크기에 따라, 비율을 조정할 수 있음"
   ]
  },
  {
   "cell_type": "code",
   "execution_count": 14,
   "id": "ddd813f3",
   "metadata": {},
   "outputs": [],
   "source": [
    "# 데이터 나누기\n",
    "X = data[['age', 'sex', 'bmi', 'children', 'smoker']]\n",
    "y = data['charges']"
   ]
  },
  {
   "cell_type": "code",
   "execution_count": 15,
   "id": "3cb08b18",
   "metadata": {},
   "outputs": [],
   "source": [
    "from sklearn.model_selection import train_test_split\n",
    "\n",
    "X_train, X_test, y_train, y_test = train_test_split(X, y, test_size=0.2, random_state=100)\n",
    "# 8:2의 비율로 분리\n",
    "# random_state를 부여하여 매번 다르게 분리되는 것을 같게해줌"
   ]
  },
  {
   "cell_type": "markdown",
   "id": "9b5978ca",
   "metadata": {},
   "source": [
    "### 모델링\n",
    "\n",
    "머신러닝 알고리즘으로 모델을 학습시키는 과정"
   ]
  },
  {
   "cell_type": "code",
   "execution_count": 16,
   "id": "4061dadd",
   "metadata": {},
   "outputs": [
    {
     "data": {
      "text/plain": [
       "LinearRegression()"
      ]
     },
     "execution_count": 16,
     "metadata": {},
     "output_type": "execute_result"
    }
   ],
   "source": [
    "from sklearn.linear_model import LinearRegression\n",
    "\n",
    "model = LinearRegression()\n",
    "\n",
    "model.fit(X_train, y_train)"
   ]
  },
  {
   "cell_type": "markdown",
   "id": "2fb1b19e",
   "metadata": {},
   "source": [
    "#### 하이퍼파라미터\n",
    "\n",
    "1. fit_intercept (bool, default=True)\n",
    "- 절편 β0을 포함할지 여부\n",
    "- False로 두면 데이터가 원점(0,0)을 지난다고 가정\n",
    "\n",
    "2. n_jobs (int, default=None)\n",
    "- CPU 병렬 처리 설정\n",
    "- n_jobs=-1로 두면 모든 코어 사용\n",
    "\n",
    "3. positive (bool, default=False)\n",
    "- 회귀계수를 강제로 양수(positive)만 되게 할지 여부\n",
    "- 수요량, 가격 등 음수가 불가능한 상황에서 유용"
   ]
  },
  {
   "cell_type": "markdown",
   "id": "94fd6152",
   "metadata": {},
   "source": [
    "오버피팅(overfitting): 과적합(과대적합)\n",
    "- 모델이 train set에 지나치게 잘 맞도록 학습되어 예측력이 떨어지는 현상"
   ]
  },
  {
   "cell_type": "code",
   "execution_count": 17,
   "id": "8b595c88",
   "metadata": {},
   "outputs": [],
   "source": [
    "# 모델을 활용해 예측하기\n",
    "\n",
    "pred = model.predict(X_test)"
   ]
  },
  {
   "cell_type": "markdown",
   "id": "5ddb84a3",
   "metadata": {},
   "source": [
    "### 예측 모델 평가하기"
   ]
  },
  {
   "cell_type": "code",
   "execution_count": 18,
   "id": "0d2c1957",
   "metadata": {},
   "outputs": [
    {
     "data": {
      "text/html": [
       "<div>\n",
       "<style scoped>\n",
       "    .dataframe tbody tr th:only-of-type {\n",
       "        vertical-align: middle;\n",
       "    }\n",
       "\n",
       "    .dataframe tbody tr th {\n",
       "        vertical-align: top;\n",
       "    }\n",
       "\n",
       "    .dataframe thead th {\n",
       "        text-align: right;\n",
       "    }\n",
       "</style>\n",
       "<table border=\"1\" class=\"dataframe\">\n",
       "  <thead>\n",
       "    <tr style=\"text-align: right;\">\n",
       "      <th></th>\n",
       "      <th>actual</th>\n",
       "      <th>pred</th>\n",
       "    </tr>\n",
       "  </thead>\n",
       "  <tbody>\n",
       "    <tr>\n",
       "      <th>12</th>\n",
       "      <td>1826.84300</td>\n",
       "      <td>4765.249466</td>\n",
       "    </tr>\n",
       "    <tr>\n",
       "      <th>306</th>\n",
       "      <td>20177.67113</td>\n",
       "      <td>4957.730865</td>\n",
       "    </tr>\n",
       "    <tr>\n",
       "      <th>318</th>\n",
       "      <td>7421.19455</td>\n",
       "      <td>8298.988153</td>\n",
       "    </tr>\n",
       "    <tr>\n",
       "      <th>815</th>\n",
       "      <td>1877.92940</td>\n",
       "      <td>3078.811868</td>\n",
       "    </tr>\n",
       "    <tr>\n",
       "      <th>157</th>\n",
       "      <td>15518.18025</td>\n",
       "      <td>24165.956542</td>\n",
       "    </tr>\n",
       "    <tr>\n",
       "      <th>...</th>\n",
       "      <td>...</td>\n",
       "      <td>...</td>\n",
       "    </tr>\n",
       "    <tr>\n",
       "      <th>713</th>\n",
       "      <td>1984.45330</td>\n",
       "      <td>5776.764928</td>\n",
       "    </tr>\n",
       "    <tr>\n",
       "      <th>1282</th>\n",
       "      <td>14283.45940</td>\n",
       "      <td>23102.847340</td>\n",
       "    </tr>\n",
       "    <tr>\n",
       "      <th>531</th>\n",
       "      <td>14043.47670</td>\n",
       "      <td>14280.732585</td>\n",
       "    </tr>\n",
       "    <tr>\n",
       "      <th>537</th>\n",
       "      <td>8825.08600</td>\n",
       "      <td>10527.417291</td>\n",
       "    </tr>\n",
       "    <tr>\n",
       "      <th>1015</th>\n",
       "      <td>12124.99240</td>\n",
       "      <td>11638.260006</td>\n",
       "    </tr>\n",
       "  </tbody>\n",
       "</table>\n",
       "<p>268 rows × 2 columns</p>\n",
       "</div>"
      ],
      "text/plain": [
       "           actual          pred\n",
       "12     1826.84300   4765.249466\n",
       "306   20177.67113   4957.730865\n",
       "318    7421.19455   8298.988153\n",
       "815    1877.92940   3078.811868\n",
       "157   15518.18025  24165.956542\n",
       "...           ...           ...\n",
       "713    1984.45330   5776.764928\n",
       "1282  14283.45940  23102.847340\n",
       "531   14043.47670  14280.732585\n",
       "537    8825.08600  10527.417291\n",
       "1015  12124.99240  11638.260006\n",
       "\n",
       "[268 rows x 2 columns]"
      ]
     },
     "execution_count": 18,
     "metadata": {},
     "output_type": "execute_result"
    }
   ],
   "source": [
    "# 테이블로 평가하기\n",
    "\n",
    "comparison = pd.DataFrame({'actual': y_test, 'pred': pred})\n",
    "comparison\n",
    "\n",
    "# 하나하나 확인해야하는 한계가 있음"
   ]
  },
  {
   "cell_type": "code",
   "execution_count": 21,
   "id": "85d57c64",
   "metadata": {},
   "outputs": [
    {
     "data": {
      "text/plain": [
       "<AxesSubplot:xlabel='actual', ylabel='pred'>"
      ]
     },
     "execution_count": 21,
     "metadata": {},
     "output_type": "execute_result"
    },
    {
     "data": {
      "image/png": "[encoded data removed]",
      "text/plain": [
       "<Figure size 720x720 with 1 Axes>"
      ]
     },
     "metadata": {
      "needs_background": "light"
     },
     "output_type": "display_data"
    }
   ],
   "source": [
    "# 그래프로 평가하기\n",
    "\n",
    "import matplotlib.pyplot as plt\n",
    "import seaborn as sns\n",
    "\n",
    "plt.figure(figsize=(10,10))\n",
    "sns.scatterplot(x='actual', y='pred', data=comparison)"
   ]
  },
  {
   "cell_type": "code",
   "execution_count": 26,
   "id": "c62f0ea0",
   "metadata": {},
   "outputs": [
    {
     "data": {
      "image/png": "[encoded data removed]",
      "text/plain": [
       "<Figure size 720x720 with 1 Axes>"
      ]
     },
     "metadata": {
      "needs_background": "light"
     },
     "output_type": "display_data"
    }
   ],
   "source": [
    "plt.figure(figsize=(10,10))\n",
    "\n",
    "sns.regplot(\n",
    "    x='actual', \n",
    "    y='pred', \n",
    "    data=comparison, \n",
    "    scatter=True, \n",
    "    line_kws={'color':'red', 'linestyle':'--'}  # 점선 스타일\n",
    ")\n",
    "plt.show()"
   ]
  },
  {
   "cell_type": "markdown",
   "id": "58e8ab0a",
   "metadata": {},
   "source": [
    "그래프 평가는 직관적으로는 되지만 객관적인 기준이 되지는 않음"
   ]
  },
  {
   "cell_type": "code",
   "execution_count": 28,
   "id": "495d6ee2",
   "metadata": {},
   "outputs": [
    {
     "data": {
      "text/plain": [
       "5684.927776334484"
      ]
     },
     "execution_count": 28,
     "metadata": {},
     "output_type": "execute_result"
    }
   ],
   "source": [
    "# 통계적인 방법으로 평가하기: RMSE\n",
    "# RMSE(평균 제곱근 오차): 실제값과 예측값 사이의 차이를 제곱 평균한 뒤 제곱근을 취한 값\n",
    "# 오차를 제곱하기 때문에 큰 오차에 더 민감\n",
    "# 값이 작을수록 좋음\n",
    "\n",
    "# RMSE 외에도 MAE, MSE 등의 평가지표가 있음\n",
    "# MAE: 평균 절대 오차\n",
    "# MSE: 평균 제곱 오차\n",
    "# R^2: 결정계수\n",
    "\n",
    "from sklearn.metrics import mean_squared_error\n",
    "mean_squared_error(y_test, pred) ** 0.5"
   ]
  },
  {
   "cell_type": "code",
   "execution_count": 29,
   "id": "9122b5dd",
   "metadata": {},
   "outputs": [
    {
     "data": {
      "text/plain": [
       "5684.927776334484"
      ]
     },
     "execution_count": 29,
     "metadata": {},
     "output_type": "execute_result"
    }
   ],
   "source": [
    "mean_squared_error(y_test, pred, squared=False)"
   ]
  },
  {
   "cell_type": "code",
   "execution_count": 30,
   "id": "b4457d02",
   "metadata": {},
   "outputs": [
    {
     "data": {
      "text/plain": [
       "0.7368220127747351"
      ]
     },
     "execution_count": 30,
     "metadata": {},
     "output_type": "execute_result"
    }
   ],
   "source": [
    "# RMSE를 평가하는데 절대적인 기준이 없어 5684라는 값이 크거나 작다고 할 수 없음\n",
    "# RMSE는 상대평가\n",
    "\n",
    "# R^2는 독립변수로 설명되는 종속변수의 분산 비율을 나타내는 통계적 측정값\n",
    "# 모델의 설명력이라고 이해하면 쉬움\n",
    "# 0에서 1 사이의 값으로 1에 가까울수록 모형을 잘 설명하고 있음\n",
    "\n",
    "model.score(X_train, y_train)"
   ]
  },
  {
   "cell_type": "code",
   "execution_count": 31,
   "id": "31477148",
   "metadata": {},
   "outputs": [],
   "source": [
    "# 이해하기\n",
    "# 키와 체중을 대표적인 선형 관계라 생각할 수 있음(키가 크면 체중이 많이 나감)\n",
    "# 산점도가 주어졌을 때 사람마다 최적의 선이라 판단되는게 직관적으로 다를 것임\n",
    "# 머신러닝에서는 손실함수를 최소화하는 선을 찾아서 모델을 만들어 냄\n",
    "# 손실함수(Loss Function): 예측값과 실제값 차이(오차)를 평가하는 방법 -> ex) RMSE\n",
    "\n",
    "# 선형회귀는 상대적으로 단순한 알고리즘이라 수식으로 표현하기 쉬움\n",
    "# 독립변수가 1개일 때는 그래프로 그리기 쉽지만, 여러 개일 떄는 그리긴 어려워도 수식으로 표현가능"
   ]
  },
  {
   "cell_type": "code",
   "execution_count": 33,
   "id": "7d213aaa",
   "metadata": {},
   "outputs": [
    {
     "data": {
      "text/plain": [
       "array([2.64799803e+02, 1.73446608e+01, 2.97514806e+02, 4.69339602e+02,\n",
       "       2.34692802e+04])"
      ]
     },
     "execution_count": 33,
     "metadata": {},
     "output_type": "execute_result"
    }
   ],
   "source": [
    "# 각 독립변수의 계수 확인\n",
    "model.coef_"
   ]
  },
  {
   "cell_type": "code",
   "execution_count": 34,
   "id": "d4804038",
   "metadata": {},
   "outputs": [
    {
     "data": {
      "text/plain": [
       "age           264.799803\n",
       "sex            17.344661\n",
       "bmi           297.514806\n",
       "children      469.339602\n",
       "smoker      23469.280173\n",
       "dtype: float64"
      ]
     },
     "execution_count": 34,
     "metadata": {},
     "output_type": "execute_result"
    }
   ],
   "source": [
    "pd.Series(model.coef_, index=X.columns)"
   ]
  },
  {
   "cell_type": "code",
   "execution_count": 35,
   "id": "0a38771b",
   "metadata": {},
   "outputs": [],
   "source": [
    "# 해석 방법\n",
    "# age가 1만큼 증가면 charges는 264.799803... 만큼 증가\n",
    "# sex와 같은 범주형 변수에서는 0보다 1에서 charges가 17.344661... 만큼 높음"
   ]
  },
  {
   "cell_type": "code",
   "execution_count": 36,
   "id": "55b55bd9",
   "metadata": {},
   "outputs": [
    {
     "data": {
      "text/plain": [
       "-11576.999976112367"
      ]
     },
     "execution_count": 36,
     "metadata": {},
     "output_type": "execute_result"
    }
   ],
   "source": [
    "model.intercept_ # y절편"
   ]
  },
  {
   "cell_type": "markdown",
   "id": "85c609b2",
   "metadata": {},
   "source": [
    "위 해석 방식으로 수식은 다음과 같음\n",
    "\n",
    "charges = 264.799803 * age + 17.344661 * sex + 297.514806 * bmi + 469.339602 * children + 23469.280173 * smoker -11576.999976112367"
   ]
  },
  {
   "cell_type": "markdown",
   "id": "ad536def",
   "metadata": {},
   "source": [
    "- 부호와 상관없이 계수의 절댓값이 클수록 영향이 크고, 0에 가까울수록 영향이 자긍ㅁ\n",
    "- 계수간 비교와는 다른 개념임\n",
    "- 각 변수의 scale이 다르기 때문"
   ]
  },
  {
   "cell_type": "markdown",
   "id": "d873cfcd",
   "metadata": {},
   "source": [
    "### 추가 내용"
   ]
  },
  {
   "cell_type": "code",
   "execution_count": 39,
   "id": "5502221c",
   "metadata": {},
   "outputs": [],
   "source": [
    "# 릿지 회귀\n",
    "from sklearn.linear_model import Ridge\n",
    "\n",
    "# 라쏘 회귀\n",
    "from sklearn.linear_model import Lasso\n",
    "\n",
    "# 엘라스틱 넷\n",
    "from sklearn.linear_model import ElasticNet"
   ]
  },
  {
   "cell_type": "markdown",
   "id": "03aeeae6",
   "metadata": {},
   "source": [
    "릿지 회귀(L2 정규화)\n",
    "- 회귀계수가 너무 커지지 않도록 제약을 줌 -> 과적합 방지\n",
    "- 다중공선성이 있거나 대부분의 변수가 유용하다고 판단할 때 사용\n",
    "- 규제 강도($\\alpha$)를 잘못 설정하면 과소적합의 위험이 있음\n",
    "\n",
    "라쏘 회귀(L1 정규화)\n",
    "- 필요 없는 변수를 아예 제거해버림\n",
    "- 변수 선택, 일부 변수만 중요하다고 판단되는 경우(고차원 데이터)\n",
    "- 변수간 해석 왜곡 가능성이 있고 과도하게 제거하면 성능이 떨어질 수 있음\n",
    "\n",
    "엘라스틱넷 회귀\n",
    "- 릿지 + 라쏘\n",
    "- 릿지의 안정성과 라쏘의 변수선택 결합\n",
    "- 변수들 간의 상관관계가 크고 불필요한 변수도 많을 때 사용\n",
    "- 두 개의 모델을 혼합한 것이라 튜닝 난이도가 있고, 각각의 단점도 일부 공유함"
   ]
  },
  {
   "cell_type": "markdown",
   "id": "9362bfdc",
   "metadata": {},
   "source": [
    "### 연습 문제\n",
    "1. (3)  \n",
    "2. (2) -> 시험셋은 모델 학습에 사용하면 안됨\n",
    "3. (1) -> AUC는 ROC 곡선의 아래 면적으로 분류에서 사용\n",
    "4. (3) -> 계수의 절대값의 크기가 클수록 영향도가 크다고 할 수 있음"
   ]
  },
  {
   "cell_type": "markdown",
   "id": "f0359726",
   "metadata": {},
   "source": [
    "# 질문\n",
    "여러 가지 평가 지표(RMSE, MAE, $R^2$ 등) 중에서 우선순위가 정해져 있는지 궁금합니다. 만약 정해져 있지 않다면, 어떤 기준으로 평가 지표를 선택하는 것이 좋을까요?"
   ]
  },
  {
   "cell_type": "code",
   "execution_count": null,
   "id": "82952d43",
   "metadata": {},
   "outputs": [],
   "source": []
  }
 ],
 "metadata": {
  "kernelspec": {
   "display_name": "Python 3",
   "language": "python",
   "name": "python3"
  },
  "language_info": {
   "codemirror_mode": {
    "name": "ipython",
    "version": 3
   },
   "file_extension": ".py",
   "mimetype": "text/x-python",
   "name": "python",
   "nbconvert_exporter": "python",
   "pygments_lexer": "ipython3",
   "version": "3.6.13"
  }
 },
 "nbformat": 4,
 "nbformat_minor": 5
}
