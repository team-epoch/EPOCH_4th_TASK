{
  "cells": [
    {
      "cell_type": "markdown",
      "id": "8174b4f5",
      "metadata": {
        "id": "8174b4f5"
      },
      "source": [
        "라이브러리"
      ]
    },
    {
      "cell_type": "code",
      "execution_count": null,
      "id": "900faba0",
      "metadata": {
        "id": "900faba0"
      },
      "outputs": [],
      "source": [
        "import os # 파이썬을 이용해 파일을 복사하거나 디렉터리를 생성하고 특정 디렉터리 내의 파일 목록을 구하고자 할 때 사용\n",
        "import numpy as np\n",
        "import pandas as pd\n",
        "import matplotlib.pyplot as plt\n",
        "import torch\n",
        "import torchvision # torchvision package : 컴퓨터 비전을 위한 유명 데이터셋, 모델 아키텍처, 이미지 변형등을 포함\n",
        "import torch.nn as nn # nn : neural netwroks (define class) attribute를 활용해 state를 저장하고 활용\n",
        "import torch.optim as optim # 최적화 알고리즘\n",
        "import torch.nn.functional as F # (define function) 인스턴스화 시킬 필요없이 사용 가능\n",
        "from PIL import Image\n",
        "from torchvision import transforms, datasets # transforms : 데이터를 조작하고 학습에 적합하게 만듦.\n",
        "from torch.utils.data import Dataset, DataLoader\n",
        "# dataset : 샘플과 정답(label)을 저장\n",
        "# DataLoader : Dataset 을 샘플에 쉽게 접근할 수 있도록 순회 가능한 객체(iterable)로 감싼다.\n"
      ]
    },
    {
      "cell_type": "markdown",
      "id": "1eec5259",
      "metadata": {
        "id": "1eec5259"
      },
      "source": [
        "Epoch, Batch Size, Device 정의"
      ]
    },
    {
      "cell_type": "code",
      "execution_count": null,
      "id": "a3b5d967",
      "metadata": {
        "colab": {
          "base_uri": "https://localhost:8080/"
        },
        "id": "a3b5d967",
        "outputId": "e5cb35d1-d33a-419c-a17a-3210b9712a62"
      },
      "outputs": [
        {
          "name": "stdout",
          "output_type": "stream",
          "text": [
            "2.8.0+cu126\n",
            "cpu\n"
          ]
        }
      ],
      "source": [
        "epochs = 10 # 훈련 반복수\n",
        "batch_size = 512 # 배치 크기\n",
        "\n",
        "device = (\"cuda\" if torch.cuda.is_available() else \"cpu\") # device 정의\n",
        "class_names = ['T-shirt/top', 'Trouser', 'Pullover', 'Dress', 'Coat',\n",
        "               'Sandal', 'Shirt', 'Sneaker', 'Bag', 'Ankle boot'] # 총 10개의 클래스\n",
        "\n",
        "print(torch.__version__)\n",
        "print(device)\n",
        "\n",
        "# 결과\n",
        "# 1.10.0+cu111\n",
        "# cuda"
      ]
    },
    {
      "cell_type": "markdown",
      "id": "c4f36705",
      "metadata": {
        "id": "c4f36705"
      },
      "source": [
        "데이터셋 준비"
      ]
    },
    {
      "cell_type": "code",
      "execution_count": null,
      "id": "346da6da",
      "metadata": {
        "colab": {
          "base_uri": "https://localhost:8080/"
        },
        "id": "346da6da",
        "outputId": "56d0ebd9-71bf-4bc0-fbe9-4c25bc730057"
      },
      "outputs": [
        {
          "name": "stderr",
          "output_type": "stream",
          "text": [
            "100%|██████████| 26.4M/26.4M [00:01<00:00, 16.6MB/s]\n",
            "100%|██████████| 29.5k/29.5k [00:00<00:00, 306kB/s]\n",
            "100%|██████████| 4.42M/4.42M [00:00<00:00, 5.60MB/s]\n",
            "100%|██████████| 5.15k/5.15k [00:00<00:00, 10.4MB/s]\n"
          ]
        }
      ],
      "source": [
        "transform = transforms.Compose([\n",
        "    transforms.Resize(227), # Compose : transforms 리스트 구성\n",
        "    # 227x227 : input image(in alexnet) but fashionMNIST's input image : 28x28\n",
        "    transforms.ToTensor()]) # ToTensor : PIL image or numpy.ndarray를 tensor로 바꿈\n",
        "\n",
        "training_data = datasets.FashionMNIST(\n",
        "    root=\"data\", # data가 저장될 경로(path)\n",
        "    train=True, # training dataset\n",
        "    download=True, # 인터넷으로부터 데이터 다운\n",
        "    transform=transform # feature 및 label 변환(transformation) 지정\n",
        ")\n",
        "\n",
        "validation_data = datasets.FashionMNIST(\n",
        "    root=\"data\",\n",
        "    train=False, # test dataset\n",
        "    download=True,\n",
        "    transform=transform\n",
        ")"
      ]
    },
    {
      "cell_type": "markdown",
      "id": "8228d7e6",
      "metadata": {
        "id": "8228d7e6"
      },
      "source": [
        "데이터로더"
      ]
    },
    {
      "cell_type": "code",
      "execution_count": null,
      "id": "932ad895",
      "metadata": {
        "id": "932ad895"
      },
      "outputs": [],
      "source": [
        "training_loader = DataLoader(training_data, batch_size=64, shuffle=True)\n",
        "validation_loader = DataLoader(validation_data, batch_size=64, shuffle=True)"
      ]
    },
    {
      "cell_type": "markdown",
      "id": "1624b925",
      "metadata": {
        "id": "1624b925"
      },
      "source": [
        "이미지 보기"
      ]
    },
    {
      "cell_type": "code",
      "execution_count": null,
      "id": "38bad5e6",
      "metadata": {
        "colab": {
          "base_uri": "https://localhost:8080/",
          "height": 453
        },
        "id": "38bad5e6",
        "outputId": "fefb6ef9-7a69-43a0-d4ac-47de6a430953"
      },
      "outputs": [
        {
          "name": "stdout",
          "output_type": "stream",
          "text": [
            "Trouser\n"
          ]
        },
        {
          "data": {
            "image/png": "[encoded data removed]",
            "text/plain": [
              "<Figure size 640x480 with 1 Axes>"
            ]
          },
          "metadata": {},
          "output_type": "display_data"
        }
      ],
      "source": [
        "# helper function to show an image\n",
        "def matplotlib_imshow(img):\n",
        "    img = img.mean(dim=0)\n",
        "    img = img / 2 + 0.5\n",
        "    npimg = img.numpy()\n",
        "    plt.imshow(npimg, cmap=\"Greys\")\n",
        "\n",
        "# get some random training images\n",
        "dataiter = iter(training_loader) # iter(호출가능한객체, 반복을끝낼값)\n",
        "images, labels = next(dataiter) # next() : 반복할 수 있을 때는 해당 값을 출력하고, 반복이 끝났을 때는 기본값을 출력\n",
        "\n",
        "# create grid of images\n",
        "img_grid = torchvision.utils.make_grid(images[0]) # make_grid : 이미지의 그리드 생성\n",
        "\n",
        "# show images & labels\n",
        "matplotlib_imshow(img_grid)\n",
        "print(class_names[labels[0]])"
      ]
    },
    {
      "cell_type": "markdown",
      "id": "67847681",
      "metadata": {
        "id": "67847681"
      },
      "source": [
        "모델 구현"
      ]
    },
    {
      "cell_type": "code",
      "execution_count": null,
      "id": "7bc779aa",
      "metadata": {
        "id": "7bc779aa"
      },
      "outputs": [],
      "source": [
        "class fashion_mnist_alexnet(nn.Module):\n",
        "    def __init__(self):\n",
        "        super().__init__()\n",
        "        self.conv1 = nn.Sequential(\n",
        "\n",
        "            nn.Conv2d(in_channels=1, out_channels=96, kernel_size=11, stride=4, padding=0),\n",
        "            # 4D tensor : [number_of_kernels, input_channels, kernel_width, kernel_height]\n",
        "            # = 96x1x11x11\n",
        "            # input size : 1x227x227\n",
        "            # input size 정의 : (N, C, H, W) or (C, H, W)\n",
        "            # W' = (W-F+2P)/S + 1\n",
        "            # 55x55x96 feature map 생성 (55는 (227-11+1)/4)\n",
        "            # 최종적으로 227 -> 55\n",
        "            nn.ReLU(), # 96x55x55\n",
        "            nn.MaxPool2d(kernel_size=3, stride=2)\n",
        "            # 55 -> (55-3+1)/2 = 26.5 = 27\n",
        "            # 96x27x27 feature map 생성\n",
        "\n",
        "        )\n",
        "        self.conv2 = nn.Sequential(\n",
        "            nn.Conv2d(96, 256, 5, 1, 2), # in_channels: 96, out_channels: 256, kernel_size=5x5, stride=1, padding=2\n",
        "            # kernel 수 = 48x5x5 (드롭아웃을 사용했기 때문에 96/2=48) 형태의 256개\n",
        "            # 256x27x27\n",
        "            nn.ReLU(),\n",
        "            nn.MaxPool2d(3, 2) # 27 -> 13\n",
        "            # 256x13x13\n",
        "        )\n",
        "        self.conv3 = nn.Sequential(\n",
        "            nn.Conv2d(256, 384, 3, 1, 1),\n",
        "            nn.ReLU() # 13 유지\n",
        "            # 384x13x13\n",
        "        )\n",
        "        self.conv4 = nn.Sequential(\n",
        "            nn.Conv2d(384, 384, 3, 1, 1),\n",
        "            nn.ReLU() # 13 유지\n",
        "            # 384x13x13\n",
        "        )\n",
        "        self.conv5 = nn.Sequential(\n",
        "            nn.Conv2d(384, 256, 3, 1, 1),\n",
        "            nn.ReLU(),\n",
        "            nn.MaxPool2d(3, 2) # 13 -> 6\n",
        "            # 256x6x6\n",
        "        )\n",
        "\n",
        "        self.fc1 = nn.Linear(256 * 6 * 6, 4096)\n",
        "        self.fc2 = nn.Linear(4096, 4096)\n",
        "        self.fc3 = nn.Linear(4096, 10)\n",
        "\n",
        "    def forward(self, x): # input size = 3x227x227\n",
        "        out = self.conv1(x)\n",
        "        out = self.conv2(out)\n",
        "        out = self.conv3(out)\n",
        "        out = self.conv4(out)\n",
        "        out = self.conv5(out) # 64x4096x1x1\n",
        "        out = out.view(out.size(0), -1) # 64x4096\n",
        "\n",
        "        out = F.relu(self.fc1(out))\n",
        "        out = F.dropout(out, 0.5)\n",
        "        out = F.relu(self.fc2(out))\n",
        "        out = F.dropout(out, 0.5)\n",
        "        out = self.fc3(out)\n",
        "        out = F.log_softmax(out, dim=1)\n",
        "\n",
        "        return out"
      ]
    },
    {
      "cell_type": "markdown",
      "id": "1654b0d7",
      "metadata": {
        "id": "1654b0d7"
      },
      "source": [
        "모델 생성"
      ]
    },
    {
      "cell_type": "code",
      "execution_count": null,
      "id": "9b3e9c5a",
      "metadata": {
        "id": "9b3e9c5a"
      },
      "outputs": [],
      "source": [
        "model = fashion_mnist_alexnet().to(device) # to()로 모델에 gpu 사용\n",
        "criterion = F.nll_loss # nll_loss : negative log likelihood loss\n",
        "optimizer = optim.Adam(model.parameters()) # model(신경망) 파라미터를 optimizer에 전달해줄 때 nn.Module의 parameters() 메소드를 사용"
      ]
    },
    {
      "cell_type": "markdown",
      "id": "36136e61",
      "metadata": {
        "id": "36136e61"
      },
      "source": [
        "모델의 Summary()"
      ]
    },
    {
      "cell_type": "code",
      "execution_count": null,
      "id": "51f7b60a",
      "metadata": {
        "colab": {
          "base_uri": "https://localhost:8080/"
        },
        "id": "51f7b60a",
        "outputId": "5f827fe1-1e9b-46de-ada2-0d7272c480d8"
      },
      "outputs": [
        {
          "name": "stdout",
          "output_type": "stream",
          "text": [
            "----------------------------------------------------------------\n",
            "        Layer (type)               Output Shape         Param #\n",
            "================================================================\n",
            "            Conv2d-1          [512, 96, 55, 55]          11,712\n",
            "              ReLU-2          [512, 96, 55, 55]               0\n",
            "         MaxPool2d-3          [512, 96, 27, 27]               0\n",
            "            Conv2d-4         [512, 256, 27, 27]         614,656\n",
            "              ReLU-5         [512, 256, 27, 27]               0\n",
            "         MaxPool2d-6         [512, 256, 13, 13]               0\n",
            "            Conv2d-7         [512, 384, 13, 13]         885,120\n",
            "              ReLU-8         [512, 384, 13, 13]               0\n",
            "            Conv2d-9         [512, 384, 13, 13]       1,327,488\n",
            "             ReLU-10         [512, 384, 13, 13]               0\n",
            "           Conv2d-11         [512, 256, 13, 13]         884,992\n",
            "             ReLU-12         [512, 256, 13, 13]               0\n",
            "        MaxPool2d-13           [512, 256, 6, 6]               0\n",
            "           Linear-14                [512, 4096]      37,752,832\n",
            "           Linear-15                [512, 4096]      16,781,312\n",
            "           Linear-16                  [512, 10]          40,970\n",
            "================================================================\n",
            "Total params: 58,299,082\n",
            "Trainable params: 58,299,082\n",
            "Non-trainable params: 0\n",
            "----------------------------------------------------------------\n",
            "Input size (MB): 100.64\n",
            "Forward/backward pass size (MB): 5589.16\n",
            "Params size (MB): 222.39\n",
            "Estimated Total Size (MB): 5912.20\n",
            "----------------------------------------------------------------\n"
          ]
        }
      ],
      "source": [
        "from torchsummary import summary as summary_\n",
        "\n",
        "summary_(model, (1,227,227), batch_size)\n",
        "# summary_: (model, input_size, batch_size)"
      ]
    },
    {
      "cell_type": "markdown",
      "id": "e5e82318",
      "metadata": {
        "id": "e5e82318"
      },
      "source": [
        "Train 정의"
      ]
    },
    {
      "cell_type": "code",
      "execution_count": null,
      "id": "7d3a285f",
      "metadata": {
        "id": "7d3a285f"
      },
      "outputs": [],
      "source": [
        "def train(model, device, train_loader, optimizer, epoch):\n",
        "    model.train()\n",
        "    for batch_idx, (data, target) in enumerate(train_loader):\n",
        "        # enumberate() : 인덱스와 원소로 이루어진 튜플(tuple)을 만들어줌\n",
        "        target = target.type(torch.LongTensor)\n",
        "        data, target = data.to(device), target.to(device)\n",
        "        optimizer.zero_grad() # 항상 backpropagation 하기전에 미분(gradient)을 zero로 만들어주고 시작해야 한다.\n",
        "        output = model(data)\n",
        "        loss = criterion(output, target) # criterion = loss_fn\n",
        "        loss.backward() # Computes the gradient of current tensor w.r.t. graph leaves\n",
        "        optimizer.step() # step() : 파라미터를 업데이트함\n",
        "        if (batch_idx + 1) % 30 == 0:\n",
        "            print(\"Train Epoch:{} [{}/{} ({:.0f}%)]\\tLoss: {:.6f}\".format(\n",
        "                epoch, batch_idx * len(data), len(train_loader.dataset),\n",
        "                100. * batch_idx / len(train_loader), loss.item()))"
      ]
    },
    {
      "cell_type": "markdown",
      "id": "680b791f",
      "metadata": {
        "id": "680b791f"
      },
      "source": [
        "test 정의"
      ]
    },
    {
      "cell_type": "code",
      "execution_count": null,
      "id": "eb62fbb8",
      "metadata": {
        "id": "eb62fbb8"
      },
      "outputs": [],
      "source": [
        "def test(model, device, test_loader):\n",
        "    model.eval()\n",
        "    test_loss = 0\n",
        "    correct = 0\n",
        "    with torch.no_grad():\n",
        "        for data, target in test_loader:\n",
        "            data, target = data.to(device), target.to(device)\n",
        "            output = model(data)\n",
        "            test_loss += criterion(output, target, reduction='sum').item()\n",
        "            pred = output.max(1, keepdim=True)[1]\n",
        "            correct += pred.eq(target.view_as(pred)).sum().item()\n",
        "\n",
        "        test_loss /= len(test_loader.dataset)  # -> mean\n",
        "        print(\"\\nTest set: Average loss: {:.4f}, Accuracy: {}/{} ({:.0f}%)\\n\".format(\n",
        "            test_loss, correct, len(test_loader.dataset), 100. * correct / len(test_loader.dataset)))\n",
        "        print('='*50)"
      ]
    },
    {
      "cell_type": "markdown",
      "id": "ab5d285a",
      "metadata": {
        "id": "ab5d285a"
      },
      "source": [
        "학습시작"
      ]
    },
    {
      "cell_type": "code",
      "execution_count": null,
      "id": "c3360281",
      "metadata": {
        "colab": {
          "background_save": true,
          "base_uri": "https://localhost:8080/"
        },
        "id": "c3360281",
        "outputId": "38b69727-1eba-4de8-9f77-37664ca196dd"
      },
      "outputs": [
        {
          "name": "stdout",
          "output_type": "stream",
          "text": [
            "Train Epoch:1 [1856/60000 (3%)]\tLoss: 1.337225\n",
            "Train Epoch:1 [3776/60000 (6%)]\tLoss: 0.889739\n",
            "Train Epoch:1 [5696/60000 (9%)]\tLoss: 1.136749\n",
            "Train Epoch:1 [7616/60000 (13%)]\tLoss: 1.012735\n",
            "Train Epoch:1 [9536/60000 (16%)]\tLoss: 0.494972\n",
            "Train Epoch:1 [11456/60000 (19%)]\tLoss: 0.593038\n",
            "Train Epoch:1 [13376/60000 (22%)]\tLoss: 0.544444\n",
            "Train Epoch:1 [15296/60000 (25%)]\tLoss: 0.267776\n",
            "Train Epoch:1 [17216/60000 (29%)]\tLoss: 0.498817\n",
            "Train Epoch:1 [19136/60000 (32%)]\tLoss: 0.460717\n",
            "Train Epoch:1 [21056/60000 (35%)]\tLoss: 0.697991\n",
            "Train Epoch:1 [22976/60000 (38%)]\tLoss: 0.346777\n",
            "Train Epoch:1 [24896/60000 (41%)]\tLoss: 0.588591\n",
            "Train Epoch:1 [26816/60000 (45%)]\tLoss: 0.552515\n",
            "Train Epoch:1 [28736/60000 (48%)]\tLoss: 0.330094\n",
            "Train Epoch:1 [30656/60000 (51%)]\tLoss: 0.448843\n",
            "Train Epoch:1 [32576/60000 (54%)]\tLoss: 0.577877\n",
            "Train Epoch:1 [34496/60000 (57%)]\tLoss: 0.413843\n",
            "Train Epoch:1 [36416/60000 (61%)]\tLoss: 0.411772\n",
            "Train Epoch:1 [38336/60000 (64%)]\tLoss: 0.256409\n",
            "Train Epoch:1 [40256/60000 (67%)]\tLoss: 0.384322\n",
            "Train Epoch:1 [42176/60000 (70%)]\tLoss: 0.350023\n",
            "Train Epoch:1 [44096/60000 (73%)]\tLoss: 0.353506\n",
            "Train Epoch:1 [46016/60000 (77%)]\tLoss: 0.470436\n",
            "Train Epoch:1 [47936/60000 (80%)]\tLoss: 0.316685\n",
            "Train Epoch:1 [49856/60000 (83%)]\tLoss: 0.247595\n",
            "Train Epoch:1 [51776/60000 (86%)]\tLoss: 0.317992\n",
            "Train Epoch:1 [53696/60000 (89%)]\tLoss: 0.322854\n",
            "Train Epoch:1 [55616/60000 (93%)]\tLoss: 0.378608\n",
            "Train Epoch:1 [57536/60000 (96%)]\tLoss: 0.254823\n",
            "Train Epoch:1 [59456/60000 (99%)]\tLoss: 0.277418\n",
            "\n",
            "Test set: Average loss: 0.3829, Accuracy: 8620/10000 (86%)\n",
            "\n",
            "==================================================\n",
            "Train Epoch:2 [1856/60000 (3%)]\tLoss: 0.816203\n",
            "Train Epoch:2 [3776/60000 (6%)]\tLoss: 0.595881\n",
            "Train Epoch:2 [5696/60000 (9%)]\tLoss: 0.424533\n",
            "Train Epoch:2 [7616/60000 (13%)]\tLoss: 0.276996\n",
            "Train Epoch:2 [9536/60000 (16%)]\tLoss: 0.333581\n",
            "Train Epoch:2 [11456/60000 (19%)]\tLoss: 0.351412\n",
            "Train Epoch:2 [13376/60000 (22%)]\tLoss: 0.336301\n",
            "Train Epoch:2 [15296/60000 (25%)]\tLoss: 0.254568\n",
            "Train Epoch:2 [17216/60000 (29%)]\tLoss: 0.409777\n",
            "Train Epoch:2 [19136/60000 (32%)]\tLoss: 0.600202\n",
            "Train Epoch:2 [21056/60000 (35%)]\tLoss: 0.585556\n",
            "Train Epoch:2 [22976/60000 (38%)]\tLoss: 0.363163\n",
            "Train Epoch:2 [24896/60000 (41%)]\tLoss: 0.330505\n",
            "Train Epoch:2 [26816/60000 (45%)]\tLoss: 0.373144\n",
            "Train Epoch:2 [28736/60000 (48%)]\tLoss: 0.491337\n",
            "Train Epoch:2 [30656/60000 (51%)]\tLoss: 0.346243\n",
            "Train Epoch:2 [32576/60000 (54%)]\tLoss: 0.207353\n",
            "Train Epoch:2 [34496/60000 (57%)]\tLoss: 0.211900\n",
            "Train Epoch:2 [36416/60000 (61%)]\tLoss: 0.220541\n",
            "Train Epoch:2 [38336/60000 (64%)]\tLoss: 0.493325\n",
            "Train Epoch:2 [40256/60000 (67%)]\tLoss: 0.142212\n",
            "Train Epoch:2 [42176/60000 (70%)]\tLoss: 0.205939\n",
            "Train Epoch:2 [44096/60000 (73%)]\tLoss: 0.301778\n"
          ]
        }
      ],
      "source": [
        "for epoch in range(1, epochs+1):\n",
        "    train(model, device, training_loader, optimizer, epoch)\n",
        "    test(model, device, validation_loader)"
      ]
    }
  ],
  "metadata": {
    "colab": {
      "provenance": []
    },
    "kernelspec": {
      "display_name": "Python 3",
      "language": "python",
      "name": "python3"
    },
    "language_info": {
      "codemirror_mode": {
        "name": "ipython",
        "version": 3
      },
      "file_extension": ".py",
      "mimetype": "text/x-python",
      "name": "python",
      "nbconvert_exporter": "python",
      "pygments_lexer": "ipython3",
      "version": "3.12.4"
    }
  },
  "nbformat": 4,
  "nbformat_minor": 5
}