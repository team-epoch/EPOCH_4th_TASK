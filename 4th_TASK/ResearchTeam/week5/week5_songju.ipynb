{
  "cells": [
    {
      "cell_type": "markdown",
      "source": [
        "#1. Residual block 구현하기"
      ],
      "metadata": {
        "id": "zlHqSQ4uJPxx"
      },
      "id": "zlHqSQ4uJPxx"
    },
    {
      "cell_type": "code",
      "source": [
        "import torch\n",
        "import torch.nn as nn\n",
        "\n",
        "class BasicBlock(nn.Module):\n",
        "   def __init__(self, in_channels, out_channels, kernel_size=3):\n",
        "       super(BasicBlock, self).__init__()\n",
        "\n",
        "\n",
        "       #conv layer 정의\n",
        "       self.c1 = nn.Conv2d(in_channels, out_channels,\n",
        "                           kernel_size=kernel_size, padding=1)\n",
        "       self.c2 = nn.Conv2d(out_channels, out_channels,\n",
        "                           kernel_size=kernel_size, padding=1)\n",
        "\n",
        "       self.downsample = nn.Conv2d(in_channels, out_channels,\n",
        "                                   kernel_size=1)\n",
        "\n",
        "       #batchnorm 정의\n",
        "       self.bn1 = nn.BatchNorm2d(num_features=out_channels)\n",
        "       self.bn2 = nn.BatchNorm2d(num_features=out_channels)\n",
        "\n",
        "       self.relu = nn.ReLU()\n",
        "   def forward(self, x):\n",
        "\n",
        "       #initial input 저장\n",
        "       x_ = x\n",
        "\n",
        "       x = self.c1(x)\n",
        "       x = self.bn1(x)\n",
        "       x = self.relu(x)\n",
        "       x = self.c2(x)\n",
        "       x = self.bn2(x)\n",
        "\n",
        "       #conv 결과와 input의 채널 수를 맞춰줌\n",
        "       x_ = self.downsample(x_)\n",
        "\n",
        "       #conv layer의 결과와 저장해놨던 input을 더해줌\n",
        "       x += x_\n",
        "       x = self.relu(x)\n",
        "\n",
        "       return x\n"
      ],
      "metadata": {
        "id": "mI18H363IWa3"
      },
      "id": "mI18H363IWa3",
      "execution_count": 1,
      "outputs": []
    },
    {
      "cell_type": "markdown",
      "source": [
        "#2. ResNet Model 구현하기"
      ],
      "metadata": {
        "id": "vLL84icMJUmO"
      },
      "id": "vLL84icMJUmO"
    },
    {
      "cell_type": "code",
      "source": [
        "#ResNet-9 만들기\n",
        "\n",
        "class ResNet(nn.Module):\n",
        "   def __init__(self, num_classes=10):\n",
        "       super(ResNet, self).__init__()\n",
        "\n",
        "\n",
        "       #BasicBlock\n",
        "       self.b1 = BasicBlock(in_channels=3, out_channels=64)\n",
        "       self.b2 = BasicBlock(in_channels=64, out_channels=128)\n",
        "       self.b3 = BasicBlock(in_channels=128, out_channels=256)\n",
        "\n",
        "\n",
        "       #average pooling 적용\n",
        "       self.pool = nn.AvgPool2d(kernel_size=2, stride=2)\n",
        "\n",
        "\n",
        "       self.fc1 = nn.Linear(in_features=4096, out_features=2048)\n",
        "       self.fc2 = nn.Linear(in_features=2048, out_features=512)\n",
        "       self.fc3 = nn.Linear(in_features=512, out_features=num_classes)\n",
        "\n",
        "       self.relu = nn.ReLU()\n",
        "\n",
        "   def forward(self, x):\n",
        "\n",
        "       #Basic block과 pooling layer 통과\n",
        "       x = self.b1(x)\n",
        "       x = self.pool(x)\n",
        "       x = self.b2(x)\n",
        "       x = self.pool(x)\n",
        "       x = self.b3(x)\n",
        "       x = self.pool(x)\n",
        "\n",
        "\n",
        "       #flatten (fc layer)\n",
        "       x = torch.flatten(x, start_dim=1)\n",
        "\n",
        "       #예측값 출력\n",
        "       x = self.fc1(x)\n",
        "       x = self.relu(x)\n",
        "       x = self.fc2(x)\n",
        "       x = self.relu(x)\n",
        "       x = self.fc3(x)\n",
        "\n",
        "       return x\n"
      ],
      "metadata": {
        "id": "w3JuN9rVIxj7"
      },
      "id": "w3JuN9rVIxj7",
      "execution_count": 2,
      "outputs": []
    },
    {
      "cell_type": "markdown",
      "source": [
        "#3. CIFAR10 전처리하기"
      ],
      "metadata": {
        "id": "fZpyWlhKJp_w"
      },
      "id": "fZpyWlhKJp_w"
    },
    {
      "cell_type": "code",
      "source": [
        "import tqdm\n",
        "\n",
        "from torchvision.datasets.cifar import CIFAR10\n",
        "from torchvision.transforms import Compose, ToTensor\n",
        "from torchvision.transforms import RandomHorizontalFlip, RandomCrop\n",
        "from torchvision.transforms import Normalize\n",
        "from torch.utils.data.dataloader import DataLoader\n",
        "\n",
        "from torch.optim.adam import Adam\n",
        "\n",
        "transforms = Compose([\n",
        "   RandomCrop((32, 32), padding=4), #random crop\n",
        "   RandomHorizontalFlip(p=0.5), #randomhorizontal flip\n",
        "   ToTensor(),\n",
        "   Normalize(mean=(0.4914, 0.4822, 0.4465), std=(0.247, 0.243, 0.261))\n",
        "])"
      ],
      "metadata": {
        "id": "CxGbsnTCJoOy"
      },
      "id": "CxGbsnTCJoOy",
      "execution_count": 3,
      "outputs": []
    },
    {
      "cell_type": "code",
      "source": [
        "training_data = CIFAR10(root=\"./\", train=True, download=True, transform=transforms)\n",
        "test_data = CIFAR10(root=\"./\", train=False, download=True, transform=transforms)\n",
        "\n",
        "train_loader = DataLoader(training_data, batch_size=32, shuffle=True)\n",
        "test_loader = DataLoader(test_data, batch_size=32, shuffle=False)"
      ],
      "metadata": {
        "colab": {
          "base_uri": "https://localhost:8080/"
        },
        "id": "31huD07DJ3ph",
        "outputId": "d99e0920-b5ce-4f3c-de05-5a115db3e0b6"
      },
      "id": "31huD07DJ3ph",
      "execution_count": 4,
      "outputs": [
        {
          "output_type": "stream",
          "name": "stderr",
          "text": [
            "100%|██████████| 170M/170M [00:08<00:00, 20.0MB/s]\n"
          ]
        }
      ]
    },
    {
      "cell_type": "code",
      "source": [
        "#모델 정의\n",
        "device = \"cuda\" if torch.cuda.is_available() else \"cpu\"\n",
        "\n",
        "model = ResNet(num_classes=10)\n",
        "model.to(device)"
      ],
      "metadata": {
        "colab": {
          "base_uri": "https://localhost:8080/"
        },
        "id": "h_De8uk_KDQd",
        "outputId": "dd70155f-62ab-4a95-fd5e-5d0259f0c4a7"
      },
      "id": "h_De8uk_KDQd",
      "execution_count": 5,
      "outputs": [
        {
          "output_type": "execute_result",
          "data": {
            "text/plain": [
              "ResNet(\n",
              "  (b1): BasicBlock(\n",
              "    (c1): Conv2d(3, 64, kernel_size=(3, 3), stride=(1, 1), padding=(1, 1))\n",
              "    (c2): Conv2d(64, 64, kernel_size=(3, 3), stride=(1, 1), padding=(1, 1))\n",
              "    (downsample): Conv2d(3, 64, kernel_size=(1, 1), stride=(1, 1))\n",
              "    (bn1): BatchNorm2d(64, eps=1e-05, momentum=0.1, affine=True, track_running_stats=True)\n",
              "    (bn2): BatchNorm2d(64, eps=1e-05, momentum=0.1, affine=True, track_running_stats=True)\n",
              "    (relu): ReLU()\n",
              "  )\n",
              "  (b2): BasicBlock(\n",
              "    (c1): Conv2d(64, 128, kernel_size=(3, 3), stride=(1, 1), padding=(1, 1))\n",
              "    (c2): Conv2d(128, 128, kernel_size=(3, 3), stride=(1, 1), padding=(1, 1))\n",
              "    (downsample): Conv2d(64, 128, kernel_size=(1, 1), stride=(1, 1))\n",
              "    (bn1): BatchNorm2d(128, eps=1e-05, momentum=0.1, affine=True, track_running_stats=True)\n",
              "    (bn2): BatchNorm2d(128, eps=1e-05, momentum=0.1, affine=True, track_running_stats=True)\n",
              "    (relu): ReLU()\n",
              "  )\n",
              "  (b3): BasicBlock(\n",
              "    (c1): Conv2d(128, 256, kernel_size=(3, 3), stride=(1, 1), padding=(1, 1))\n",
              "    (c2): Conv2d(256, 256, kernel_size=(3, 3), stride=(1, 1), padding=(1, 1))\n",
              "    (downsample): Conv2d(128, 256, kernel_size=(1, 1), stride=(1, 1))\n",
              "    (bn1): BatchNorm2d(256, eps=1e-05, momentum=0.1, affine=True, track_running_stats=True)\n",
              "    (bn2): BatchNorm2d(256, eps=1e-05, momentum=0.1, affine=True, track_running_stats=True)\n",
              "    (relu): ReLU()\n",
              "  )\n",
              "  (pool): AvgPool2d(kernel_size=2, stride=2, padding=0)\n",
              "  (fc1): Linear(in_features=4096, out_features=2048, bias=True)\n",
              "  (fc2): Linear(in_features=2048, out_features=512, bias=True)\n",
              "  (fc3): Linear(in_features=512, out_features=10, bias=True)\n",
              "  (relu): ReLU()\n",
              ")"
            ]
          },
          "metadata": {},
          "execution_count": 5
        }
      ]
    },
    {
      "cell_type": "code",
      "source": [
        "#lr, optimizer, loss 설정\n",
        "lr = 1e-4\n",
        "optim = Adam(model.parameters(), lr=lr)\n",
        "\n",
        "for epoch in range(30):\n",
        "   iterator = tqdm.tqdm(train_loader)\n",
        "   for data, label in iterator:\n",
        "       # 최적화를 위해 기울기 초기화\n",
        "       optim.zero_grad()\n",
        "\n",
        "       # 모델의 예측값\n",
        "       preds = model(data.to(device))\n",
        "\n",
        "       # 손실 계산 및 역전파\n",
        "       loss = nn.CrossEntropyLoss()(preds, label.to(device))\n",
        "       loss.backward()\n",
        "       optim.step()\n",
        "\n",
        "       iterator.set_description(f\"epoch:{epoch+1} loss:{loss.item()}\")\n",
        "\n",
        "torch.save(model.state_dict(), \"ResNet.pth\")"
      ],
      "metadata": {
        "colab": {
          "base_uri": "https://localhost:8080/"
        },
        "id": "HYqc3cYTKKJz",
        "outputId": "e8bb1ea0-8c22-4ab0-cf53-4a27787f123c"
      },
      "id": "HYqc3cYTKKJz",
      "execution_count": 6,
      "outputs": [
        {
          "output_type": "stream",
          "name": "stderr",
          "text": [
            "epoch:1 loss:0.9004710912704468: 100%|██████████| 1563/1563 [00:46<00:00, 33.77it/s]\n",
            "epoch:2 loss:1.228370189666748: 100%|██████████| 1563/1563 [00:44<00:00, 35.31it/s]\n",
            "epoch:3 loss:1.140533447265625: 100%|██████████| 1563/1563 [00:44<00:00, 34.76it/s]\n",
            "epoch:4 loss:0.7456884980201721: 100%|██████████| 1563/1563 [00:44<00:00, 34.92it/s]\n",
            "epoch:5 loss:0.5660049915313721: 100%|██████████| 1563/1563 [00:44<00:00, 34.99it/s]\n",
            "epoch:6 loss:0.6312590837478638: 100%|██████████| 1563/1563 [00:44<00:00, 34.96it/s]\n",
            "epoch:7 loss:0.21800464391708374: 100%|██████████| 1563/1563 [00:44<00:00, 35.26it/s]\n",
            "epoch:8 loss:0.3861290216445923: 100%|██████████| 1563/1563 [00:44<00:00, 35.10it/s]\n",
            "epoch:9 loss:0.5747197270393372: 100%|██████████| 1563/1563 [00:44<00:00, 35.43it/s]\n",
            "epoch:10 loss:0.3364240527153015: 100%|██████████| 1563/1563 [00:44<00:00, 34.75it/s]\n",
            "epoch:11 loss:0.4822887182235718: 100%|██████████| 1563/1563 [00:44<00:00, 35.02it/s]\n",
            "epoch:12 loss:0.748232364654541: 100%|██████████| 1563/1563 [00:44<00:00, 35.08it/s]\n",
            "epoch:13 loss:0.3044382333755493: 100%|██████████| 1563/1563 [00:44<00:00, 34.93it/s]\n",
            "epoch:14 loss:0.3897145390510559: 100%|██████████| 1563/1563 [00:44<00:00, 35.25it/s]\n",
            "epoch:15 loss:0.2182641327381134: 100%|██████████| 1563/1563 [00:44<00:00, 34.78it/s]\n",
            "epoch:16 loss:0.06286579370498657: 100%|██████████| 1563/1563 [00:44<00:00, 34.85it/s]\n",
            "epoch:17 loss:0.202161505818367: 100%|██████████| 1563/1563 [00:44<00:00, 35.18it/s]\n",
            "epoch:18 loss:0.05169248208403587: 100%|██████████| 1563/1563 [00:44<00:00, 34.80it/s]\n",
            "epoch:19 loss:0.26137569546699524: 100%|██████████| 1563/1563 [00:44<00:00, 34.92it/s]\n",
            "epoch:20 loss:0.14660611748695374: 100%|██████████| 1563/1563 [00:45<00:00, 34.73it/s]\n",
            "epoch:21 loss:0.24560287594795227: 100%|██████████| 1563/1563 [00:44<00:00, 35.05it/s]\n",
            "epoch:22 loss:0.37868961691856384: 100%|██████████| 1563/1563 [00:44<00:00, 34.92it/s]\n",
            "epoch:23 loss:0.21417498588562012: 100%|██████████| 1563/1563 [00:44<00:00, 34.93it/s]\n",
            "epoch:24 loss:0.046979643404483795: 100%|██████████| 1563/1563 [00:44<00:00, 35.30it/s]\n",
            "epoch:25 loss:0.3542948365211487: 100%|██████████| 1563/1563 [00:44<00:00, 35.26it/s]\n",
            "epoch:26 loss:0.19486300647258759: 100%|██████████| 1563/1563 [00:44<00:00, 34.78it/s]\n",
            "epoch:27 loss:0.26198479533195496: 100%|██████████| 1563/1563 [00:44<00:00, 35.19it/s]\n",
            "epoch:28 loss:0.020754732191562653: 100%|██████████| 1563/1563 [00:43<00:00, 35.53it/s]\n",
            "epoch:29 loss:0.08380402624607086: 100%|██████████| 1563/1563 [00:44<00:00, 35.14it/s]\n",
            "epoch:30 loss:0.042559877038002014: 100%|██████████| 1563/1563 [00:44<00:00, 34.86it/s]\n"
          ]
        }
      ]
    },
    {
      "cell_type": "markdown",
      "source": [
        "#4. Test 데이터 분류하기"
      ],
      "metadata": {
        "id": "BGDn_JOlKV37"
      },
      "id": "BGDn_JOlKV37"
    },
    {
      "cell_type": "code",
      "source": [
        "model.load_state_dict(torch.load(\"ResNet.pth\", map_location=device))\n",
        "\n",
        "num_corr = 0\n",
        "\n",
        "with torch.no_grad():\n",
        "   for data, label in test_loader:\n",
        "\n",
        "       output = model(data.to(device))\n",
        "       preds = output.data.max(1)[1]\n",
        "       corr = preds.eq(label.to(device).data).sum().item()\n",
        "       num_corr += corr\n",
        "\n",
        "   print(f\"Accuracy:{num_corr/len(test_data)}\")"
      ],
      "metadata": {
        "colab": {
          "base_uri": "https://localhost:8080/"
        },
        "id": "EUlFX1suKTOP",
        "outputId": "090ea651-fe0d-4739-df25-70beaac05c2f"
      },
      "id": "EUlFX1suKTOP",
      "execution_count": 7,
      "outputs": [
        {
          "output_type": "stream",
          "name": "stdout",
          "text": [
            "Accuracy:0.8744\n"
          ]
        }
      ]
    }
  ],
  "metadata": {
    "kernelspec": {
      "display_name": "Python 3",
      "name": "python3"
    },
    "language_info": {
      "codemirror_mode": {
        "name": "ipython",
        "version": 3
      },
      "file_extension": ".py",
      "mimetype": "text/x-python",
      "name": "python",
      "nbconvert_exporter": "python",
      "pygments_lexer": "ipython3",
      "version": "3.8.10"
    },
    "colab": {
      "provenance": [],
      "gpuType": "T4"
    },
    "accelerator": "GPU"
  },
  "nbformat": 4,
  "nbformat_minor": 5
}